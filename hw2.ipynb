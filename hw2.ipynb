{
 "cells": [
  {
   "cell_type": "code",
   "execution_count": 1,
   "id": "e8669e4c",
   "metadata": {},
   "outputs": [],
   "source": [
    "import matplotlib.pyplot as plt\n",
    "import numpy as np"
   ]
  },
  {
   "cell_type": "code",
   "execution_count": 2,
   "id": "06e7b98b",
   "metadata": {},
   "outputs": [],
   "source": [
    "from IPython.display import display, Math, Latex"
   ]
  },
  {
   "cell_type": "code",
   "execution_count": 3,
   "id": "ef521bfb",
   "metadata": {},
   "outputs": [
    {
     "data": {
      "text/plain": "<IPython.core.display.Math object>",
      "text/latex": "$\\displaystyle |R_n| \\leq \\sum_{x = N + 1}^{\\infty} |\\frac{1}{x^2 - x - z}|\\leq \\int_{N}^{\\infty} \\frac{dx}{x(x - 2)}= \\frac{1}{2}\\ln(\\frac{N}{N-2}) \\leq \\epsilon$"
     },
     "metadata": {},
     "output_type": "display_data"
    }
   ],
   "source": [
    "# A\n",
    "\n",
    "# Найдём N, то сколько членов ряда нам нужно читать \n",
    "\n",
    "display(Math(r'|R_n| \\leq \\sum_{x = N + 1}^{\\infty} |\\frac{1}{x^2 - x - z}|' + \n",
    "             r'\\leq \\int_{N}^{\\infty} \\frac{dx}{x(x - 2)}' + r'= \\frac{1}{2}\\ln(\\frac{N}{N-2}) \\leq \\epsilon' ))"
   ]
  },
  {
   "cell_type": "code",
   "execution_count": 4,
   "id": "d59cbce0",
   "metadata": {},
   "outputs": [
    {
     "data": {
      "text/plain": "<IPython.core.display.Math object>",
      "text/latex": "$\\displaystyle 1000001.00000563 \\leq x < \\infty$"
     },
     "metadata": {},
     "output_type": "display_data"
    }
   ],
   "source": [
    "# Решение последнего неревенста при условии, что N > 0 \n",
    "display(Math(r'1000001.00000563 \\leq x < \\infty'))"
   ]
  },
  {
   "cell_type": "code",
   "execution_count": 5,
   "id": "6c5fef67",
   "metadata": {},
   "outputs": [
    {
     "data": {
      "text/plain": "<Figure size 432x288 with 1 Axes>",
      "image/png": "[encoded data removed]"
     },
     "metadata": {
      "needs_background": "light"
     },
     "output_type": "display_data"
    }
   ],
   "source": [
    "# Выберем минимальное N\n",
    "N_a = 1000002 # 1000002\n",
    "\n",
    "X_step = 0.01 \n",
    "X_len = 2.0 - X_step\n",
    "\n",
    "X = np.arange(X_step, X_len, X_step)\n",
    "\n",
    "def w_A(N:int):\n",
    "    Y1 = []\n",
    "    for x in X:\n",
    "        elem: float = 0.0\n",
    "        for k in range(1, N + 1):\n",
    "            elem += 1 / (k * (k - 1) - x)\n",
    "        Y1.append(elem) \n",
    "    return Y1\n",
    "\n",
    "Y1 = w_A(N_a) # slow\n",
    "\n",
    "plt.plot(X, Y1, linewidth=2, label=r'A - simple summing')\n",
    "plt.grid()\n",
    "plt.show()"
   ]
  },
  {
   "cell_type": "code",
   "execution_count": 6,
   "id": "84db4830",
   "metadata": {},
   "outputs": [
    {
     "data": {
      "text/plain": "<IPython.core.display.Math object>",
      "text/latex": "$\\displaystyle \\sum_{x = 1}^{\\infty} \\frac{1}{x(x + 1)} = 1$"
     },
     "metadata": {},
     "output_type": "display_data"
    }
   ],
   "source": [
    "# B\n",
    "\n",
    "# модельный ряд:\n",
    "\n",
    "display(Math(r'\\sum_{x = 1}^{\\infty} \\frac{1}{x(x + 1)} = 1'))"
   ]
  },
  {
   "cell_type": "code",
   "execution_count": 7,
   "id": "b1c0b424",
   "metadata": {},
   "outputs": [
    {
     "data": {
      "text/plain": "<IPython.core.display.Math object>",
      "text/latex": "$\\displaystyle \\sum_{x = 1}^{\\infty} \\frac{1}{x^2 - x - z} = 1 + \\sum_{x = 1}^{\\infty} (\\frac{1}{x^2 - x - z} - \\frac{1}{x(x + 1)}) = 1 + \\sum_{x = 1}^{\\infty} \\frac{2x + z}{x(x + 1)(x^2 - x - z)}$"
     },
     "metadata": {},
     "output_type": "display_data"
    }
   ],
   "source": [
    "display(Math(r'\\sum_{x = 1}^{\\infty} \\frac{1}{x^2 - x - z} = ' + \n",
    "             r'1 + \\sum_{x = 1}^{\\infty} (\\frac{1}{x^2 - x - z} - \\frac{1}{x(x + 1)}) = ' +\n",
    "             r'1 + \\sum_{x = 1}^{\\infty} \\frac{2x + z}{x(x + 1)(x^2 - x - z)}'))"
   ]
  },
  {
   "cell_type": "code",
   "execution_count": 8,
   "id": "71ac3548",
   "metadata": {},
   "outputs": [
    {
     "data": {
      "text/plain": "<IPython.core.display.Math object>",
      "text/latex": "$\\displaystyle |R_n| \\leq \\sum_{x = N + 1}^{\\infty} |\\frac{2x + z}{x(x + 1)(x^2 - x - z)}|\\leq \\int_{N}^{\\infty} \\frac{2x + 2}{x(x + 1)(x^2 - 3x)}= \\int_{N}^{\\infty} \\frac{2}{x^2(x - 3)}= -\\frac{2(N \\ln(\\frac{N - 3}{N}) + 3)}{9N} \\leq \\epsilon$"
     },
     "metadata": {},
     "output_type": "display_data"
    }
   ],
   "source": [
    "# Оценим скорость сходимости\n",
    "\n",
    "display(Math(r'|R_n| \\leq \\sum_{x = N + 1}^{\\infty} |\\frac{2x + z}{x(x + 1)(x^2 - x - z)}|' + \n",
    "             r'\\leq \\int_{N}^{\\infty} \\frac{2x + 2}{x(x + 1)(x^2 - 3x)}' +\n",
    "             r'= \\int_{N}^{\\infty} \\frac{2}{x^2(x - 3)}' +\n",
    "             r'= -\\frac{2(N \\ln(\\frac{N - 3}{N}) + 3)}{9N}' +\n",
    "             r' \\leq \\epsilon' ))\n"
   ]
  },
  {
   "cell_type": "code",
   "execution_count": 9,
   "id": "dc5be191",
   "metadata": {},
   "outputs": [
    {
     "name": "stdout",
     "output_type": "stream",
     "text": [
      "N = 1002\n"
     ]
    }
   ],
   "source": [
    "# здесь я подзакопался в счёте этого неравенства, поэтому решил сделать проще, ведь N > 10 и натуральное:\n",
    "\n",
    "def calc():\n",
    "    n = 10\n",
    "    eps = 10**(-6)\n",
    "    while (2 * (n * np.log((n - 3)/n) + 3)) / (-9 * n) > eps:\n",
    "        n += 1\n",
    "    return n\n",
    "\n",
    "N_b:int = calc()\n",
    "print(f'N = {N_b}')"
   ]
  },
  {
   "cell_type": "code",
   "execution_count": 10,
   "id": "d911731d",
   "metadata": {},
   "outputs": [
    {
     "data": {
      "text/plain": "<Figure size 432x288 with 1 Axes>",
      "image/png": "[encoded data removed]"
     },
     "metadata": {
      "needs_background": "light"
     },
     "output_type": "display_data"
    }
   ],
   "source": [
    "def w_B(N: int):\n",
    "    Y2 = []\n",
    "    S = 1\n",
    "    \n",
    "    for x in X:\n",
    "        elem: float = 0.0\n",
    "        for k in range(1, N + 1):\n",
    "            elem += (2*k + x) / ((k * (k - 1) - x) * k * (k + 1))\n",
    "        Y2.append(elem + S)\n",
    "    return Y2\n",
    "\n",
    "Y2 = w_B(N_b)\n",
    "plt.plot(X, Y2, linewidth=2, label=r'B - smart summing')\n",
    "plt.grid()\n",
    "plt.show()"
   ]
  },
  {
   "cell_type": "code",
   "execution_count": 11,
   "id": "147a3d7c",
   "metadata": {},
   "outputs": [
    {
     "data": {
      "text/plain": "<Figure size 432x288 with 1 Axes>",
      "image/png": "[encoded data removed]"
     },
     "metadata": {
      "needs_background": "light"
     },
     "output_type": "display_data"
    }
   ],
   "source": [
    "# С\n",
    "Y3 = []\n",
    "\n",
    "for i in range(len(Y1)):\n",
    "    Y3.append(Y1[i] - Y2[i])\n",
    "\n",
    "\n",
    "\n",
    "plt.plot(X, Y3, linewidth=2, label=r'C')\n",
    "plt.grid()\n",
    "plt.show()"
   ]
  },
  {
   "cell_type": "code",
   "execution_count": 11,
   "id": "2d23c132",
   "metadata": {},
   "outputs": [],
   "source": []
  }
 ],
 "metadata": {
  "kernelspec": {
   "display_name": "Python 3 (ipykernel)",
   "language": "python",
   "name": "python3"
  },
  "language_info": {
   "codemirror_mode": {
    "name": "ipython",
    "version": 3
   },
   "file_extension": ".py",
   "mimetype": "text/x-python",
   "name": "python",
   "nbconvert_exporter": "python",
   "pygments_lexer": "ipython3",
   "version": "3.9.7"
  }
 },
 "nbformat": 4,
 "nbformat_minor": 5
}